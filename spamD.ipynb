{
 "cells": [
  {
   "cell_type": "code",
   "execution_count": 1,
   "metadata": {},
   "outputs": [
    {
     "name": "stderr",
     "output_type": "stream",
     "text": [
      "[nltk_data] Downloading package stopwords to\n",
      "[nltk_data]     C:\\Users\\brahm\\AppData\\Roaming\\nltk_data...\n",
      "[nltk_data]   Package stopwords is already up-to-date!\n",
      "[nltk_data] Downloading package punkt to\n",
      "[nltk_data]     C:\\Users\\brahm\\AppData\\Roaming\\nltk_data...\n",
      "[nltk_data]   Package punkt is already up-to-date!\n"
     ]
    },
    {
     "ename": "ModuleNotFoundError",
     "evalue": "No module named 'wordcloud'",
     "output_type": "error",
     "traceback": [
      "\u001b[1;31m---------------------------------------------------------------------------\u001b[0m",
      "\u001b[1;31mModuleNotFoundError\u001b[0m                       Traceback (most recent call last)",
      "Cell \u001b[1;32mIn[1], line 14\u001b[0m\n\u001b[0;32m     12\u001b[0m \u001b[38;5;28;01mimport\u001b[39;00m \u001b[38;5;21;01mre\u001b[39;00m\n\u001b[0;32m     13\u001b[0m \u001b[38;5;28;01mfrom\u001b[39;00m \u001b[38;5;21;01mcollections\u001b[39;00m \u001b[38;5;28;01mimport\u001b[39;00m Counter\n\u001b[1;32m---> 14\u001b[0m \u001b[38;5;28;01mfrom\u001b[39;00m \u001b[38;5;21;01mwordcloud\u001b[39;00m \u001b[38;5;28;01mimport\u001b[39;00m WordCloud\n\u001b[0;32m     15\u001b[0m \u001b[38;5;28;01mfrom\u001b[39;00m \u001b[38;5;21;01msklearn\u001b[39;00m\u001b[38;5;21;01m.\u001b[39;00m\u001b[38;5;21;01mpreprocessing\u001b[39;00m \u001b[38;5;28;01mimport\u001b[39;00m LabelEncoder\n\u001b[0;32m     16\u001b[0m \u001b[38;5;66;03m# Model Building\u001b[39;00m\n",
      "\u001b[1;31mModuleNotFoundError\u001b[0m: No module named 'wordcloud'"
     ]
    }
   ],
   "source": [
    "import pandas as pd\n",
    "import matplotlib.pyplot as plt\n",
    "import seaborn as sns\n",
    "# data preprocessing\n",
    "import nltk\n",
    "nltk.download('stopwords')\n",
    "nltk.download('punkt')\n",
    "import string\n",
    "from nltk.corpus import stopwords\n",
    "from nltk.stem import PorterStemmer\n",
    "from nltk.tokenize import sent_tokenize, word_tokenize\n",
    "import re\n",
    "from collections import Counter\n",
    "from wordcloud import WordCloud\n",
    "from sklearn.preprocessing import LabelEncoder\n",
    "# Model Building\n",
    "from sklearn.feature_extraction.text import TfidfVectorizer\n",
    "from sklearn.model_selection import train_test_split\n",
    "from sklearn.metrics import accuracy_score,confusion_matrix,precision_score\n",
    "from sklearn.svm import SVC\n",
    "from sklearn.ensemble import RandomForestClassifier\n",
    "from sklearn.naive_bayes import MultinomialNB\n",
    "\n",
    "# ### Importing the Dataset\n",
    "data = pd.read_csv(\"emails.csv\",encoding='latin1')\n",
    "data.sample(5)"
   ]
  },
  {
   "cell_type": "code",
   "execution_count": null,
   "metadata": {},
   "outputs": [],
   "source": [
    "data.shape\n",
    "data.drop(columns=[\"Unnamed: 2\", \"Unnamed: 3\", \"Unnamed: 4\"], inplace=True)\n",
    "data.rename(columns={'v1': 'result', 'v2': 'emails'}, inplace=True)\n",
    "data\n",
    "data.isnull().sum()\n",
    "data.duplicated().sum()\n",
    "data = data.drop_duplicates(keep='first')\n",
    "data.shape\n",
    "data.head(5)"
   ]
  },
  {
   "cell_type": "code",
   "execution_count": null,
   "metadata": {},
   "outputs": [],
   "source": [
    "data['result'].value_counts()\n",
    "\n",
    "# Plotting\n",
    "plt.figure(figsize=(8, 6))\n",
    "plt.pie(data['result'].value_counts(), labels=data['result'].value_counts().index, autopct='%1.1f%%', startangle=45)\n",
    "plt.title('Distribution of Spam and Non-Spam Emails')\n",
    "plt.axis('equal') \n",
    "plt.show()"
   ]
  },
  {
   "cell_type": "code",
   "execution_count": null,
   "metadata": {},
   "outputs": [],
   "source": [
    "data['Length'] = data['emails'].apply(len)\n",
    "data['num_words'] = data['emails'].apply(word_tokenize).apply(len)\n",
    "data['num_sentence'] = data['emails'].apply(sent_tokenize).apply(len)\n",
    "data.head(2)\n",
    "avg_length_spam = data[data['result'] == 'spam']['Length'].mean()\n",
    "avg_length_ham = data[data['result'] == 'ham']['Length'].mean()\n",
    "#plotting\n",
    "print(\"Average Length of Spam Emails:\", avg_length_spam)\n",
    "print(\"Average Length of Ham Emails:\", avg_length_ham)\n",
    "plt.bar(['Spam', 'Ham'], [avg_length_spam, avg_length_ham], color=['Blue', 'green'])\n",
    "plt.title('Average Length of Emails for Spam and Ham')\n",
    "plt.xlabel('Email Type')\n",
    "plt.ylabel('Average Length')\n",
    "plt.show()"
   ]
  },
  {
   "cell_type": "code",
   "execution_count": null,
   "metadata": {},
   "outputs": [],
   "source": [
    "avg_word_spam = data[data['result'] == 'spam']['num_words'].mean()\n",
    "avg_word_ham = data[data['result'] == 'ham']['num_words'].mean()\n",
    "print(\"Average Words of Spam Emails:\", avg_word_spam)\n",
    "print(\"Average Words of Ham Emails:\", avg_word_ham)\n",
    "\n",
    "# Plotting the graph\n",
    "plt.bar(['Spam', 'Ham'], [avg_word_spam, avg_word_ham], color=['Blue', 'orange'])\n",
    "plt.title('Average Words of Emails for Spam and Ham')\n",
    "plt.xlabel('Email Type')\n",
    "plt.ylabel('Average Words')\n",
    "plt.show()"
   ]
  },
  {
   "cell_type": "code",
   "execution_count": null,
   "metadata": {},
   "outputs": [],
   "source": [
    "data['transform_text'] = data['emails'].str.lower()\n",
    "# Tokenization\n",
    "data['transform_text'] = data['transform_text'].apply(word_tokenize)\n",
    "\n",
    "# Removing special characters\n",
    "data['transform_text'] = data['transform_text'].apply(lambda x: [re.sub(r'[^a-zA-Z0-9\\s]', '', word) for word in x])\n",
    "\n",
    "# Removing stop words and punctuation\n",
    "stop_words = set(stopwords.words('english'))\n",
    "data['transform_text'] = data['transform_text'].apply(lambda x: [word for word in x if word not in stop_words and word not in string.punctuation])\n",
    "\n",
    "# Stemming\n",
    "ps = PorterStemmer()\n",
    "data['transform_text'] = data['transform_text'].apply(lambda x: [ps.stem(word) for word in x])\n",
    "\n",
    "# Convert the preprocessed text back to string\n",
    "data['transform_text'] = data['transform_text'].apply(lambda x: ' '.join(x))\n",
    "\n",
    "# Display the preprocessed data\n",
    "print(data[['emails', 'transform_text']].head())"
   ]
  },
  {
   "cell_type": "code",
   "execution_count": null,
   "metadata": {},
   "outputs": [],
   "source": [
    "spam_emails = data[data['result'] == 'spam']['transform_text']\n",
    "# Tokenize the text in spam emails\n",
    "spam_words = ' '.join(spam_emails).split()\n",
    "# Count occurrences of each word\n",
    "word_counts = Counter(spam_words)\n",
    "# Find the most common words\n",
    "most_common_words = word_counts.most_common(10)\n",
    "print(\"Top 10 Most Common Words in Spam Emails:\")\n",
    "for word, count in most_common_words:\n",
    "    print(f\"{word}: {count} occurrences\")\n",
    "    # Generate Word Cloud\n",
    "wordcloud = WordCloud(width=800, height=400, background_color='white').generate_from_frequencies(dict(most_common_words))\n",
    "# Plot Word Cloud\n",
    "plt.figure(figsize=(12, 6))\n",
    "plt.subplot(1, 2, 1)\n",
    "plt.imshow(wordcloud, interpolation='bilinear')\n",
    "plt.title('Word Cloud for Most Common Words in Spam Emails')\n",
    "plt.axis('off')\n",
    "# Plot Bar Graph\n",
    "plt.subplot(1, 2, 2)\n",
    "words, counts = zip(*most_common_words)\n",
    "plt.bar(words, counts, color='orange')\n",
    "plt.title('Bar Graph for Most Common Words in Spam Emails')\n",
    "plt.xlabel('Words')\n",
    "plt.ylabel('Frequency')\n",
    "plt.xticks(rotation=45, ha='right')\n",
    "plt.tight_layout()\n",
    "plt.show()"
   ]
  },
  {
   "cell_type": "code",
   "execution_count": null,
   "metadata": {},
   "outputs": [],
   "source": [
    "encoder = LabelEncoder()\n",
    "data['result'] = encoder.fit_transform(data['result'])\n",
    "data.sample(2)\n",
    "\n",
    "#data spliting and vectorization\n",
    "tfidf = TfidfVectorizer(max_features=3000)\n",
    "X = tfidf.fit_transform(data['emails']).toarray()\n",
    "y = data['result']\n",
    "X_train, X_test, y_train, y_test = train_test_split(X, y, test_size=0.2, random_state=42)"
   ]
  },
  {
   "cell_type": "code",
   "execution_count": null,
   "metadata": {},
   "outputs": [],
   "source": [
    "##Model 1- SVC\n",
    "svc_classifier = SVC()\n",
    "svc_classifier.fit(X_train, y_train)\n",
    "y_pred_svc = svc_classifier.predict(X_test)\n",
    "accuracy_svc = accuracy_score(y_test, y_pred_svc)\n",
    "print(f\"SVM Accuracy: {accuracy_svc:.2f}\")\n",
    "print(\"confusion Matrix :\",confusion_matrix(y_test,y_pred_svc))\n",
    "print(\"Precision Score: \",precision_score(y_test,y_pred_svc))"
   ]
  },
  {
   "cell_type": "code",
   "execution_count": null,
   "metadata": {},
   "outputs": [],
   "source": [
    "##Model 2- Random Forest classifier\n",
    "rf_classifier = RandomForestClassifier()\n",
    "rf_classifier.fit(X_train, y_train)\n",
    "y_pred_rf = rf_classifier.predict(X_test)\n",
    "accuracy_rf = accuracy_score(y_test, y_pred_rf)\n",
    "print(f\"Random Forest Accuracy: {accuracy_rf:.2f}\")\n",
    "print(\"confusion Matrix :\",confusion_matrix(y_test,y_pred_rf))\n",
    "print(\"Precision Score: \",precision_score(y_test,y_pred_rf))"
   ]
  },
  {
   "cell_type": "code",
   "execution_count": null,
   "metadata": {},
   "outputs": [],
   "source": [
    "##Model 3- Naive Bayes classifier\n",
    "nb_classifier = MultinomialNB()\n",
    "nb_classifier.fit(X_train, y_train)\n",
    "y_pred_nb = nb_classifier.predict(X_test)\n",
    "accuracy_nb = accuracy_score(y_test, y_pred_nb)\n",
    "print(f\"Naive Bayes Accuracy: {accuracy_nb:.2f}\")\n",
    "print(\"confusion Matrix :\",confusion_matrix(y_test,y_pred_nb))\n",
    "print(\"Precision Score: \",precision_score(y_test,y_pred_nb))"
   ]
  },
  {
   "cell_type": "code",
   "execution_count": null,
   "metadata": {},
   "outputs": [],
   "source": [
    "# Calculate precision scores for each classifier\n",
    "precision_svc = precision_score(y_test, y_pred_svc)\n",
    "precision_rf = precision_score(y_test, y_pred_rf)\n",
    "precision_nb = precision_score(y_test, y_pred_nb)\n",
    "\n",
    "# Create lists to store accuracies and precision scores\n",
    "classifiers = ['SVC', 'Random Forest', 'Naive Bayes']\n",
    "accuracies = [accuracy_svc, accuracy_rf, accuracy_nb]\n",
    "precision_scores = [precision_svc, precision_rf, precision_nb]\n",
    "\n",
    "# Plot bar graph for accuracies and precision scores side by side\n",
    "fig, axes = plt.subplots(1, 2, figsize=(15, 5))\n",
    "\n",
    "# Plot bar graph for accuracies\n",
    "axes[0].bar(classifiers, accuracies, color='skyblue')\n",
    "axes[0].set_xlabel('Classifier')\n",
    "axes[0].set_ylabel('Accuracy')\n",
    "axes[0].set_title('Accuracy Comparison of Different Classifiers')\n",
    "axes[0].set_ylim(0, 1)\n",
    "\n",
    "# Plot bar graph for precision scores\n",
    "axes[1].bar(classifiers, precision_scores, color='lightgreen')\n",
    "axes[1].set_xlabel('Classifier')\n",
    "axes[1].set_ylabel('Precision Score')\n",
    "axes[1].set_title('Precision Score Comparison of Different Classifiers')\n",
    "axes[1].set_ylim(0, 1)\n",
    "plt.tight_layout()\n",
    "plt.show()"
   ]
  },
  {
   "cell_type": "code",
   "execution_count": null,
   "metadata": {},
   "outputs": [],
   "source": [
    "def predict_email(email):\n",
    "    # Convert email into numerical vector using the trained TF-IDF vectorizer\n",
    "    email_vector = tfidf.transform([email])\n",
    "    \n",
    "    # Convert sparse matrix to dense array\n",
    "    email_vector_dense = email_vector.toarray()\n",
    "    \n",
    "    # Use the trained SVM model to make predictions\n",
    "    prediction = svc_classifier.predict(email_vector_dense)\n",
    "    \n",
    "    # Print the prediction\n",
    "    if prediction[0] == 1:\n",
    "        print(\"The email is predicted as spam.\")\n",
    "    else:\n",
    "        print(\"The email is predicted as ham.\")\n",
    "\n",
    "# Get user input for email\n",
    "user_email = input(\"Enter the email text: \")\n",
    "\n",
    "# Predict whether the input email is spam or ham\n",
    "predict_email(user_email)"
   ]
  }
 ],
 "metadata": {
  "kernelspec": {
   "display_name": "Python 3",
   "language": "python",
   "name": "python3"
  },
  "language_info": {
   "codemirror_mode": {
    "name": "ipython",
    "version": 3
   },
   "file_extension": ".py",
   "mimetype": "text/x-python",
   "name": "python",
   "nbconvert_exporter": "python",
   "pygments_lexer": "ipython3",
   "version": "3.13.0"
  }
 },
 "nbformat": 4,
 "nbformat_minor": 2
}
